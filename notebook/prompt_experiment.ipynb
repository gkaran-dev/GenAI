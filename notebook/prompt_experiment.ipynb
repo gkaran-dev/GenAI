{
 "cells": [
  {
   "cell_type": "code",
   "execution_count": 1,
   "id": "7a2b03f3",
   "metadata": {},
   "outputs": [],
   "source": [
    "# --- Setup ---\n",
    "import os\n",
    "from openai import OpenAI\n",
    "from dotenv import load_dotenv\n",
    "\n",
    "# Load API key from .env\n",
    "load_dotenv()\n",
    "client = OpenAI(api_key=os.getenv(\"OPENAI_API_KEY\"))\n",
    "\n",
    "def get_completion(prompt, model=\"gpt-4o-mini\", temperature=0):\n",
    "    \"\"\"\n",
    "    Send a prompt to the OpenAI model and return the response.\n",
    "    \"\"\"\n",
    "    response = client.chat.completions.create(\n",
    "        model=model,\n",
    "        messages=[{\"role\": \"user\", \"content\": prompt}],\n",
    "        temperature=temperature,\n",
    "    )\n",
    "    return response.choices[0].message.content\n",
    "\n",
    "\n",
    "# --- Experiment 1: Summarization ---\n",
    "text = \"\"\"We are all surrounded by technology from all corners. \n",
    "From waking up in the morning till we sleep, in some way or the other, \n",
    "we need technology. Technology, our new present and future, \n",
    "is making human lives easier and more convenient. With new technological innovations, \n",
    "human beings have become more dependent on science and technology. \n",
    "We rely on technology for all our activities, and have become an integral part of our lives. \n",
    "The entire civilization has become reliant on the modern technology it employs. \n",
    "Life and business would come to a halt without technology. \n",
    "It is beneficial to society, but it must be handled cautiously. \n",
    "It is helpful, and at the same time, it is harmful. \n",
    "It has reduced man’s labour and improved the productivity of the work, \n",
    "but it has also reduced employment at the same time. \n",
    "So, technology should be used only to a certain extent by not depending on it completely.\"\"\"\n",
    "\n",
    "\n"
   ]
  },
  {
   "cell_type": "code",
   "execution_count": 2,
   "id": "60119326",
   "metadata": {},
   "outputs": [
    {
     "name": "stdout",
     "output_type": "stream",
     "text": [
      "=== Summary ===\n",
      "Technology is integral to our daily lives, enhancing convenience and productivity while fostering dependence. It benefits society but requires cautious handling, as it can also reduce employment. While it simplifies tasks, over-reliance on technology can be detrimental, highlighting the need for balanced usage in both personal and professional spheres.\n"
     ]
    }
   ],
   "source": [
    "prompt = f\"Summarize the following text in 50 words:\\n\\n{text}\"\n",
    "\n",
    "print(\"=== Summary ===\")\n",
    "print(get_completion(prompt))\n"
   ]
  },
  {
   "cell_type": "code",
   "execution_count": 3,
   "id": "330f97cc",
   "metadata": {},
   "outputs": [
    {
     "name": "stdout",
     "output_type": "stream",
     "text": [
      "\n",
      "=== Simplified Version ===\n",
      "We are surrounded by technology everywhere we go. From the time we wake up in the morning until we go to bed at night, we use technology in many ways. Technology is a big part of our lives now and helps us do things more easily. Because of new inventions, we depend on technology more and more. We use it for almost everything we do, and it has become very important to us. \n",
      "\n",
      "If we didn't have technology, life and work would stop. It helps society a lot, but we need to be careful with it. While technology makes our work easier and helps us get more done, it can also take away jobs. So, we should use technology, but not rely on it too much.\n"
     ]
    }
   ],
   "source": [
    "# --- Experiment 2: Rewriting ---\n",
    "prompt2 = f\"Rewrite the text below in simple English for a 10-year-old:\\n\\n{text}\"\n",
    "\n",
    "print(\"\\n=== Simplified Version ===\")\n",
    "print(get_completion(prompt2))\n"
   ]
  },
  {
   "cell_type": "code",
   "execution_count": 4,
   "id": "c093474a",
   "metadata": {},
   "outputs": [
    {
     "name": "stdout",
     "output_type": "stream",
     "text": [
      "\n",
      "=== Motivational Speech ===\n",
      "Ladies and gentlemen,\n",
      "\n",
      "Today, we stand at the crossroads of innovation and dependence. From the moment we wake up to the sound of our alarms to the last scroll through our devices before sleep, technology is woven into the very fabric of our lives. It is not just our present; it is our future—a powerful force that has made our lives easier, more convenient, and more connected than ever before.\n",
      "\n",
      "But with great power comes great responsibility. As we embrace these technological advancements, we must remember that while they enhance our productivity and reduce our labor, they also come with challenges. Our reliance on technology has transformed our civilization, but it has also altered the landscape of employment and human interaction.\n",
      "\n",
      "So, let us harness the benefits of technology, but let us do so with caution and mindfulness. We must not allow ourselves to become completely dependent on it. Instead, let us use it as a tool to empower ourselves, to enhance our creativity, and to foster genuine connections with one another.\n",
      "\n",
      "Together, we can navigate this technological era with wisdom and purpose. Let us embrace innovation while remaining grounded in our humanity. The future is bright, and it is ours to shape—let’s do it wisely! Thank you.\n"
     ]
    }
   ],
   "source": [
    "\n",
    "# --- Experiment 3: Creative ---\n",
    "prompt3 = f\"Convert the text below into a short motivational speech:\\n\\n{text}\"\n",
    "\n",
    "print(\"\\n=== Motivational Speech ===\")\n",
    "print(get_completion(prompt3))"
   ]
  }
 ],
 "metadata": {
  "kernelspec": {
   "display_name": "Python 3",
   "language": "python",
   "name": "python3"
  },
  "language_info": {
   "codemirror_mode": {
    "name": "ipython",
    "version": 3
   },
   "file_extension": ".py",
   "mimetype": "text/x-python",
   "name": "python",
   "nbconvert_exporter": "python",
   "pygments_lexer": "ipython3",
   "version": "3.13.5"
  }
 },
 "nbformat": 4,
 "nbformat_minor": 5
}
